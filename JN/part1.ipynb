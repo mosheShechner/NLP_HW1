{
 "cells": [
  {
   "cell_type": "markdown",
   "metadata": {},
   "source": [
    "# N-gram language model"
   ]
  },
  {
   "cell_type": "markdown",
   "metadata": {},
   "source": [
    "This is the first home work of the course NLP by Michael Elhadad. The work consist of 2 parts:\n",
    "\n",
    "**First** part is an intro to language modeling, praticulary we will implement n-gram model, including data gathering and cleaning, date exploration, training the language model with the data and finaly evaluating the model with respect to Preplexity measure, on a test data, allowing examning the effect of the model size parameter on that measure.\n",
    "\n",
    "Home work description: https://www.cs.bgu.ac.il/~elhadad/nlp19/hw1.html\n",
    "\n",
    "That document consist with the first part\n",
    "\n",
    "Agenda:\n",
    "\n",
    "1) Language Modeling\n",
    "* Gathering and Cleaning Up Data\n",
    "* Gathering Basic Statistics\n",
    "* n-gram Word Language Model\n",
    "* Language Model Evaluation - {Perplexity Generating, Text from a Language Model}\n",
    "* Character language model\n",
    "\n",
    "**for part one we add all source files in .../src/ folder**"
   ]
  },
  {
   "cell_type": "markdown",
   "metadata": {},
   "source": [
    "***"
   ]
  },
  {
   "cell_type": "markdown",
   "metadata": {},
   "source": [
    "## 1.1.1 Gathering and Cleaning Up Data\n",
    "We have implemented a method that recives URL list, and generates text files of clean tokens of a certain format, one for each of the given URL. If indeed the URL consist a page with large enough meaningful text, we may use the ouput file in as training data for a language model.\n",
    "\n",
    "**Cleaning method functionality**<br>\n",
    "* Replace all numbers by the token N\n",
    "* Remove all punctuations\n",
    "* Output all the text in lowercase\n",
    "* single sentence per line\n",
    "* Keep only the top-10K most frequent words in the dataset<br>\n",
    "i.e. replacing the least frequent words by the token \\< unk >\n",
    "\n",
    "Below, we show a code that feches 3 URL addresses consisting each different text;<br>\n",
    "Foreach we haveimplemnted above tasks;<br>\n",
    "**Full output files are saved in ...\\output_test_files\\**"
   ]
  },
  {
   "cell_type": "code",
   "execution_count": 1,
   "metadata": {},
   "outputs": [
    {
     "name": "stdout",
     "output_type": "stream",
     "text": [
      "Fetching and preprocessing the text: 'the_crime_and_the_punishment'\n",
      "===================================================================\n",
      "getTextFromUrl: length =  1444059 charachters; type: = <class 'str'>; tagret URL: http://www.gutenberg.org/files/2554/2554-h/2554-h.htm\n",
      "Last  3 sentences from C:\\Users\\Moshe\\nlp01\\NLP_HW01_submit_303111231_065908030\\part1\\output_text_files\\the_crime_and_the_punishment.txt\n",
      " 0: 'project gutenberg-tm ebooks are often created from several printed editions all of which are confirmed as public domain in the u.s. unless a copyright notice is included'\n",
      " 1: 'thus we do not UNK keep ebooks in compliance with any particular paper UNK'\n",
      " 2: 'most people start at our web site which has the main UNK search UNK http UNK this web site UNK information about project gutenberg-tm including how to make donations to the project gutenberg literary archive foundation how to help produce our new ebooks and how to UNK to our email UNK to hear about new ebooks'\n",
      "writting preprocessed file to C:\\Users\\Moshe\\nlp01\\NLP_HW01_submit_303111231_065908030\\part1\\output_text_files\\the_crime_and_the_punishment.txt\n",
      "\n",
      "Fetching and preprocessing the text: 'ruth_scroll'\n",
      "==================================================\n",
      "getTextFromUrl: length =    39197 charachters; type: = <class 'str'>; tagret URL: http://www.gutenberg.org/cache/epub/8008/pg8008.html\n",
      "Last  3 sentences from C:\\Users\\Moshe\\nlp01\\NLP_HW01_submit_303111231_065908030\\part1\\output_text_files\\ruth_scroll.txt\n",
      " 0: 'project gutenberg is a trademark and may not be used in any sales of project gutenberg ebooks or other materials be they hardware or software or any other related product without express permission'\n",
      " 1: '*end the small print'\n",
      " 2: 'for public domain ebooks*ver.02/11/02*end*'\n",
      "writting preprocessed file to C:\\Users\\Moshe\\nlp01\\NLP_HW01_submit_303111231_065908030\\part1\\output_text_files\\ruth_scroll.txt\n",
      "\n",
      "Fetching and preprocessing the text: 'shakespeare_work'\n",
      "=======================================================\n",
      "getTextFromUrl: length =  4573338 charachters; type: = <class 'str'>; tagret URL: https://cs.stanford.edu/people/karpathy/char-rnn/shakespeare_input.txt\n",
      "Last  3 sentences from C:\\Users\\Moshe\\nlp01\\NLP_HW01_submit_303111231_065908030\\part1\\output_text_files\\shakespeare_work.txt\n",
      " 0: 'this england never did nor never shall lie at the proud foot of a conqueror but when it first did help to wound itself'\n",
      " 1: 'now these her princes are come home again come the three corners of the world in arms and we shall shock them'\n",
      " 2: 'nought shall make us rue if england to itself do rest but true'\n",
      "writting preprocessed file to C:\\Users\\Moshe\\nlp01\\NLP_HW01_submit_303111231_065908030\\part1\\output_text_files\\shakespeare_work.txt\n",
      "\n"
     ]
    }
   ],
   "source": [
    "import sys\n",
    "sys.path.append('..\\src')\n",
    "import NLP_HW01_Q1_pre_processing as preproc\n",
    "import NLP_HW01_Q1_B_1_1_1\n",
    "\n",
    "topFreqWords = 10_000\n",
    "targetUrlList = [(\"the_crime_and_the_punishment\", \"http://www.gutenberg.org/files/2554/2554-h/2554-h.htm\"),\n",
    "                 (\"ruth_scroll\", \"http://www.gutenberg.org/cache/epub/8008/pg8008.html\"),\n",
    "                 (\"shakespeare_work\", \"https://cs.stanford.edu/people/karpathy/char-rnn/shakespeare_input.txt\")]\n",
    "\n",
    "# foreach URL generate ptb-like .text file\n",
    "NLP_HW01_Q1_B_1_1_1.ptb_preprocess(targetUrlList, topFreqWords)"
   ]
  },
  {
   "cell_type": "markdown",
   "metadata": {},
   "source": [
    "***"
   ]
  },
  {
   "cell_type": "markdown",
   "metadata": {},
   "source": [
    "## 1.1.2 Gathering Basic Statistics\n",
    "\n",
    "We want to explore the dataset and gather some statistics about it. We collect and plot some information on the ptb.train.txt:"
   ]
  },
  {
   "cell_type": "code",
   "execution_count": 2,
   "metadata": {
    "scrolled": true
   },
   "outputs": [
    {
     "name": "stdout",
     "output_type": "stream",
     "text": [
      "Number of words: 978726\n",
      "The total number of characters 4129961\n",
      "The total number of distinct words 9996\n",
      "Number of tokens corresponding to the top-1000 most frequent words in the vocabulary 785187\n",
      "The token/type ratio 97.91176470588235\n",
      "The average number and standard deviation of characters per token 4.2197315694075765, 2.705652415851888\n",
      "Number of distinct n-grams (of words) that appear in the dataset for n=2: 277419\n",
      "Number of distinct n-grams (of words) that appear in the dataset for n=3: 598666\n",
      "Number of distinct n-grams (of words) that appear in the dataset for n=4: 754993\n",
      "Number of distinct n-grams (of chars) that appear in the dataset for n=1: 50\n",
      "Number of distinct n-grams (of chars) that appear in the dataset for n=2: 778\n",
      "Number of distinct n-grams (of chars) that appear in the dataset for n=3: 6304\n",
      "Number of distinct n-grams (of chars) that appear in the dataset for n=4: 29620\n",
      "Number of distinct n-grams (of chars) that appear in the dataset for n=5: 106312\n",
      "Number of distinct n-grams (of chars) that appear in the dataset for n=6: 292892\n"
     ]
    }
   ],
   "source": [
    "import sys\n",
    "sys.path.append('..\\src')\n",
    "import NLP_HW01_Q1_B_1_1_2 as q112\n",
    "\n",
    "q112.printStatistics(\"ptb.train.txt\")"
   ]
  },
  {
   "cell_type": "markdown",
   "metadata": {},
   "source": [
    "In addition, we want to verify that the Penn Treebank follows the power law distributions. Namely, the log-frequency against the log-rank is nearly linear"
   ]
  },
  {
   "cell_type": "code",
   "execution_count": 3,
   "metadata": {},
   "outputs": [
    {
     "data": {
      "image/png": "[encoded data removed]",
      "text/plain": [
       "<Figure size 432x288 with 1 Axes>"
      ]
     },
     "metadata": {
      "needs_background": "light"
     },
     "output_type": "display_data"
    }
   ],
   "source": [
    "q112.plotLoglog(\"ptb.train.txt\")"
   ]
  },
  {
   "cell_type": "markdown",
   "metadata": {},
   "source": [
    "## 1.2 n-gram Word Language Model\n",
    "\n",
    "**A language model**, is a data structure that models statistical dependency between words in the lenguage it models.\n",
    "Given a seiries of word token (the condition) it should output it's estimation of the next work, in the form of distribution (conditional probabilities); \n",
    "There are few approaches how to achive statistical dependency; n-gram model takes the MLE approach, in practice that means to count the ocurances of a word after it's preceding history. the count is done over training data of text, hopefully large enough to capture the 'real' relation between words in the language;\n",
    "\n",
    "Our implementation is based on Yoav's Goldberg implementation for an n-gram model for charachters, and adapted to words:\n"
   ]
  },
  {
   "cell_type": "code",
   "execution_count": 7,
   "metadata": {},
   "outputs": [],
   "source": [
    "def train_word_lm(fname, order=2):\n",
    "    # assumption: receive a file with line delimiter line feed for sentences\n",
    "\n",
    "    with open(fname) as f:\n",
    "        data = f.read()\n",
    "\n",
    "    # pre-process ptb-like text\n",
    "    preprocessData = preproc.preProcessPtb(data, order)\n",
    "\n",
    "    # split to list of tokens by space delimiter\n",
    "    words = nltk.word_tokenize(preprocessData)\n",
    "\n",
    "    # count instances of occurrences of order-th word conditioned on order-1 history\n",
    "    lm = defaultdict(Counter)\n",
    "    i = 0\n",
    "    while i < len(words)-(order+1):\n",
    "        history, word = contextDelimiter.join(words[i:i+(order-1)]), words[i+(order-1)]\n",
    "        lm[history][word] += 1\n",
    "        i = i+1\n",
    "\n",
    "    # normalization\n",
    "    def normalize(counter):\n",
    "        # assume to receive a Counter object\n",
    "        norm = float(sum(counter.values()))\n",
    "        return [(word, count/norm) for word, count in counter.items()]\n",
    "    normLm = {history: normalize(count) for history, count in lm.items()}\n",
    "    return normLm"
   ]
  },
  {
   "cell_type": "markdown",
   "metadata": {},
   "source": [
    "### 1.2.1 Data structure properties\n",
    "size of the Dictionary data structure is the size of the key-value tuples it holds which correspond to observed $n$-word tuples in the trained text; for a text consisting $|V|$ number of words possible number of $n$-word tuples is $|V|^n$; that number is by far greater then the number of distinct observed $n$-word tuples; That is due to two main reasons, the property of the language, not all sequances are equally likely (clearly), and the second reason is the size of the training text data, and its representation of the actual language word distribution;\n",
    "\n",
    "#### Data structure used in the model\n",
    "The data structure in the implemented model is a dictionary; a Dictionary is a hash map, given a (unique) key it can access the key related value; in our case:\n",
    "\n",
    "- key: type string; consisting the concetenation of the history; also related as 'context'\n",
    "- value: list of tuples, each tuple consist word and it's probability;\n",
    "\n",
    "access (insert, modify, delete) of the value is done in an O(1) with respect to the size of the data structure;<br>\n",
    "\n",
    "#### suggested Interface\n",
    "with respect to language model purpose, we can think of several tasks it may be used to (e.g. model selection and research (perplexity); word completion (next_word_list); etc) therefore we would like to present the following methods available in the interface:\n",
    "\n",
    "- train_lm(train_text_string: str)<br>\n",
    "method that initialize the language model with respect to a given train data.\n",
    "- preprlexity(test_text_string: str)<br>\n",
    "method that rates the model trained on the training data\n",
    "- choose_random_word(context: str)<br>\n",
    "returns a random word with respect to it's probability\n",
    "- prob(word: str, context: str)<br>\n",
    "returns the conditional probability of the given word given the given context\n",
    "- next_word_list(context:str, list_max_size: int, min_prob_cut_down: float)<br>\n",
    "returns the conditional probability of words given the context, list is truncated by 2 parameters"
   ]
  },
  {
   "cell_type": "markdown",
   "metadata": {},
   "source": [
    "### 1.2.2 data structure size\n",
    "\n",
    "- worst case: $|V|^n$<br>\n",
    "as stated in previous section, marking size of observed word set as $|V|$, and the order of the n-gram as $n$, clearly the number of $n$-tuple words is $|V|^n$\n",
    "- expected data structure size<br>\n",
    "for a text size $N$ (in our ptb example 10_000), is all $n$-tuples are distincs, we may expect $N-n$ distinct $n$-tuples; the expected number is much lower then the possible one due to the sparsity of the language, and for the evidance we can take the results of clause 1.1.2 in the following table\n",
    "\n",
    "| order | max possible | actual found<br>\n",
    "| $n=2$ | $(10^4)^2 $  | 277419<br>\n",
    "| $n=3$ | $(10^4)^3 $  | 598666<br>\n",
    "| $n=4$ | $(10^4)^4 $  | 754993<br>\n"
   ]
  },
  {
   "cell_type": "markdown",
   "metadata": {},
   "source": [
    "***"
   ]
  },
  {
   "cell_type": "markdown",
   "metadata": {},
   "source": [
    "## 1.3 Language Model Evaluation"
   ]
  },
  {
   "cell_type": "markdown",
   "metadata": {},
   "source": [
    "We would like to have a score fort the model we are construcing with respect to the task under consideration. For that purpopse we have the preplexity measure. In that section we implement perplexity in several ways to observe how changing the model gives us a different perplexity value."
   ]
  },
  {
   "cell_type": "markdown",
   "metadata": {},
   "source": [
    "### 1.3.1 Language Model Evaluation - perplexity"
   ]
  },
  {
   "cell_type": "markdown",
   "metadata": {},
   "source": [
    "### 1.3.1.1 Perplexity implementation\n",
    "Below is our implementation for preplexity, with implemented back-off;<br>\n",
    "that implementation returns perplexity value for order 2: **608.88**\n",
    "\n",
    "(the plot of clause 1.3.3 consist that output as well the values for orders 3..20)"
   ]
  },
  {
   "cell_type": "code",
   "execution_count": 14,
   "metadata": {},
   "outputs": [],
   "source": [
    "def removeTail(inStr, delimiter):\n",
    "    splitStrList = inStr.split(delimiter)\n",
    "    splitStrList = splitStrList[1:]\n",
    "    outStr = delimiter.join(splitStrList)\n",
    "    return outStr\n",
    "\n",
    "def prob(token: str, context: str, lmList: [str], order: int) -> float:\n",
    "    lm = lmList[order - 1]\n",
    "    if order == 1:\n",
    "        # base case for back-off\n",
    "        lst = lm['']\n",
    "        for word, wordProb in lst:\n",
    "            if word == token:\n",
    "                return wordProb\n",
    "            else:\n",
    "                # print(\"Warning: hardcoded smoothing was done, word %s not found\" % word)\n",
    "                return 0.0000001\n",
    "    if context in lm:\n",
    "        # order > 1\n",
    "        lst = lm[context]\n",
    "        for word, wordProb in lst:\n",
    "            if word == token:\n",
    "                # found conditional probability\n",
    "                return wordProb\n",
    "    # back-off\n",
    "    return prob(token, removeTail(context,contextDelimiter), lmList[0:order-1], order-1)\n",
    "\n",
    "def logprob(p):\n",
    "    return math.log(p, 2)\n",
    "\n",
    "def entropy(text, order, lmList):\n",
    "    e = 0.0\n",
    "    words_list = nltk.word_tokenize(text)\n",
    "\n",
    "    for i in range(order - 1, len(words_list)):\n",
    "        context = contextDelimiter.join(words_list[i - order + 1:i])\n",
    "        token = words_list[i]\n",
    "        probability = prob(token, context, lmList, order)\n",
    "        e -= logprob(probability)\n",
    "    return e / float(len(words_list) - (order - 1))\n",
    "\n",
    "def perplexity(text, order, lmList):\n",
    "    preprocessText = preproc.preProcessPtb(text, order)\n",
    "    return pow(2.0, entropy(preprocessText, order, lmList))"
   ]
  },
  {
   "cell_type": "markdown",
   "metadata": {},
   "source": [
    "### 1.3.1.2 Using Lidstone smoothing\n",
    "\n",
    "We now change our model to use a different estimator than the Maximum Likelihood Estimator (MLE) count-based estimator. We'll use the Lidstone probability for a variety of hyper-parameter gamma (0 < gamma < 1)\n",
    "\n",
    "$$\n",
    "Pr(w_n | w_1...w_{n-1}) = \\frac{Count(W_1...W_n) + \\gamma}{Count(W_1...W_{n-1})+\\gamma |Dictionary(n)|}\n",
    "$$\n",
    "\n",
    "where  $|Dictionary(n)| = \\sum_{w_1,...,w_{n-1} \\in |V|^{n-1}} Count(w_1,...,w_{n-1})$ \n",
    "\n",
    "#### smoothin parameter $\\gamma$ effect on perplexity\n",
    "From Lidstone probability calculationit follows:\n",
    "- $\\gamma$ increases: distribution tends to be uniform distribution, but there is no use of setting a higher value then 1 as it represent a single count for non seen instances; \n",
    "- $\\gamma$ decreases towards 0, its effect on the probability term diminishes, and we get closer to the MLE (when setting 0 cancelling the smoothing effect).\n",
    "Therefore, per fixed training data and language model order $n$ we expect to have minimum between 0 to 1.\n",
    "\n",
    "#### language order model $n$ effect on perplexity\n",
    " - sufficient trainig data size<br>\n",
    "Increasing the model order sould gice it more power ,but that is only to a certain n-value (the training-data-size optimal), after which the order of the model would be too large as the n-gams would be very sparse, and almost uniform. smoothing cannot fix (by much) that situation and a smaller order should be chosen<br>\n",
    " - small training data size<br>\n",
    "That case we may be finding the optimum quite soon since the training data may not have enough n-gram types in it to generate estimations; we may also find that n=2 is optimal;"
   ]
  },
  {
   "cell_type": "code",
   "execution_count": 1,
   "metadata": {},
   "outputs": [],
   "source": [
    "def LidstoneProb(gamma,word, context ,lm,vocablarySize):\n",
    "    if context in lm:\n",
    "        sum_of_context = sum(lm[context].values())\n",
    "        div = sum_of_context+vocablarySize * gamma\n",
    "        if word in lm[context]:\n",
    "            word_prob = float(lm[context][word])\n",
    "        else:\n",
    "            word_prob = 0\n",
    "    else:\n",
    "        word_prob = 0\n",
    "        div = vocablarySize * gamma\n",
    "    return float(word_prob + gamma) / div"
   ]
  },
  {
   "cell_type": "markdown",
   "metadata": {},
   "source": [
    "We want to maximize th model for $\\gamma$ and n, so we measure the perplexity for different values. "
   ]
  },
  {
   "cell_type": "code",
   "execution_count": 6,
   "metadata": {},
   "outputs": [
    {
     "data": {
      "image/png": "[encoded data removed]",
      "text/plain": [
       "<Figure size 432x288 with 1 Axes>"
      ]
     },
     "metadata": {
      "needs_background": "light"
     },
     "output_type": "display_data"
    },
    {
     "data": {
      "image/png": "[encoded data removed]",
      "text/plain": [
       "<Figure size 432x288 with 1 Axes>"
      ]
     },
     "metadata": {
      "needs_background": "light"
     },
     "output_type": "display_data"
    }
   ],
   "source": [
    "import sys, os\n",
    "sys.path.append('..\\src')\n",
    "import NLP_HW01_Q1_language_model as lm\n",
    "\n",
    "lm.plotLidstoneProbGammaGraph3()\n",
    "lm.plotLidstoneProbGammaGraph2()"
   ]
  },
  {
   "cell_type": "markdown",
   "metadata": {},
   "source": [
    "conclusion from above graphs: **<n=2; $\\gamma$~0.007> are optimal parameters**<br>\n",
    "\n",
    "Explenation:<br>\n",
    "We present the $\\gamma$ parameter search on n=2 (lower), n=3 (upper) and we found the minimum point for $\\gamma$ in both n values;<br>\n",
    "as stated before, search is convex in both parameters, then if we see n=3 give higher values of perplexity in the $\\gamma$ optimal value, we conclude we should not search any higher values of order n for the model;"
   ]
  },
  {
   "cell_type": "markdown",
   "metadata": {},
   "source": [
    "### 1.3.1.3 Perplexity measure of increasing values of n-gram model - back-off\n",
    "Since back off returns to smaller model only when it has 0 value probability estimation, we infact expect only an improvment when taking a higher model, but the improvments are expected to decrease in magnitudeas we proceed to higher model vause, as higher order models are more and more sparse;\n",
    "\n",
    "We plot below the perplexity of incresing order of model;\n",
    "- smoothing used: **back off** <br> \n",
    "We used back-off for 0 values of condition probability of the $order-1$ history context\n",
    "- order measured: {2..20}\n",
    "\n",
    "**results analysis:**\n",
    "Indeed we see that as the order of model increases, the value of the perplexity improves (decreases) and the rate of improvment is indeed decreasesas expected"
   ]
  },
  {
   "cell_type": "code",
   "execution_count": 4,
   "metadata": {},
   "outputs": [
    {
     "data": {
      "image/png": "[encoded data removed]",
      "text/plain": [
       "<Figure size 432x288 with 1 Axes>"
      ]
     },
     "metadata": {
      "needs_background": "light"
     },
     "output_type": "display_data"
    }
   ],
   "source": [
    "import sys, os\n",
    "sys.path.append('..\\src')\n",
    "import NLP_HW01_Q1_B_1_3\n",
    "\n",
    "\n",
    "# train/ test files paths and parameters\n",
    "scriptPath = os.path.dirname(os.path.realpath('__file__'))\n",
    "scriptPathPrev = os.path.split(scriptPath)[0]\n",
    "\n",
    "relTrainFilePath = \"\\\\input_text_files\\\\ptb.train.txt\"\n",
    "trainPath = scriptPathPrev + relTrainFilePath\n",
    "relTestFilePath = \"\\\\input_text_files\\\\ptb.test.txt\"\n",
    "testPath = scriptPathPrev + relTestFilePath\n",
    "maxOrder = 20\n",
    "\n",
    "# main code\n",
    "NLP_HW01_Q1_B_1_3.testPerplexity(trainPath, testPath, maxOrder)"
   ]
  },
  {
   "cell_type": "markdown",
   "metadata": {},
   "source": [
    "### 1.3.1.4  optimal model score"
   ]
  },
  {
   "cell_type": "markdown",
   "metadata": {},
   "source": [
    "running on ptb files we have 2 methods optimal perplexity values:<br>\n",
    "- back off smoothing: <order=20> perplexity ~  36 <br>\n",
    "- lidstone smoothing: <order=02, $\\gamma$~0.007> perplexity ~ 275 <br>\n",
    "\n",
    "[Note] In backoff method we can infact improve the model but it also come on the expense of runtime of training, and space of the language model, while the improvment is not bery significant."
   ]
  }
 ],
 "metadata": {
  "kernelspec": {
   "display_name": "Python 3 (ipykernel)",
   "language": "python",
   "name": "python3"
  },
  "language_info": {
   "codemirror_mode": {
    "name": "ipython",
    "version": 3
   },
   "file_extension": ".py",
   "mimetype": "text/x-python",
   "name": "python",
   "nbconvert_exporter": "python",
   "pygments_lexer": "ipython3",
   "version": "3.9.7"
  }
 },
 "nbformat": 4,
 "nbformat_minor": 2
}
